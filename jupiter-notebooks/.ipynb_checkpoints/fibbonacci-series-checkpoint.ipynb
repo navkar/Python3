{
 "cells": [
  {
   "cell_type": "code",
   "execution_count": 1,
   "metadata": {},
   "outputs": [],
   "source": [
    "# fibbonacci series starts from 1 and not 0. Just FYI\n",
    "def gen_fibbo(n):\n",
    "    for i in range(1, n+1):\n",
    "        print(i, fibbo(i))\n",
    "\n",
    "\n",
    "def fibbo(n):\n",
    "    if (n <= 0):\n",
    "        return 0;\n",
    "    elif (n < 2):\n",
    "        return 1;\n",
    "    else:\n",
    "        sum = fibbo(n-1) + fibbo(n-2)\n",
    "        return sum"
   ]
  },
  {
   "cell_type": "code",
   "execution_count": 3,
   "metadata": {},
   "outputs": [
    {
     "name": "stdout",
     "output_type": "stream",
     "text": [
      "1 1\n",
      "2 1\n",
      "3 2\n",
      "4 3\n",
      "5 5\n",
      "6 8\n",
      "7 13\n",
      "8 21\n",
      "9 34\n",
      "10 55\n",
      "11 89\n",
      "12 144\n",
      "13 233\n",
      "14 377\n",
      "15 610\n"
     ]
    }
   ],
   "source": [
    "gen_fibbo(15)"
   ]
  },
  {
   "cell_type": "code",
   "execution_count": null,
   "metadata": {},
   "outputs": [],
   "source": []
  },
  {
   "cell_type": "code",
   "execution_count": null,
   "metadata": {},
   "outputs": [],
   "source": []
  }
 ],
 "metadata": {
  "kernelspec": {
   "display_name": "Python 3",
   "language": "python",
   "name": "python3"
  },
  "language_info": {
   "codemirror_mode": {
    "name": "ipython",
    "version": 3
   },
   "file_extension": ".py",
   "mimetype": "text/x-python",
   "name": "python",
   "nbconvert_exporter": "python",
   "pygments_lexer": "ipython3",
   "version": "3.7.0"
  }
 },
 "nbformat": 4,
 "nbformat_minor": 2
}
