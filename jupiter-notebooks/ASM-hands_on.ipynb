{
 "cells": [
  {
   "cell_type": "markdown",
   "metadata": {},
   "source": [
    "Welcome to the first Hands On association rule mining. In this exercise , you will try out ASM regression using mlxtend library that you have learnt in the course. We have created this Python Notebook with all the necessary things needed for completing this exercise. You have to write your code in between the are mentioned\n",
    "### Start Code\n",
    "Your Code here\n",
    "### End Code\n",
    "\n",
    "To run the code in each cell click on the cell and press **shift + enter** "
   ]
  },
  {
   "cell_type": "markdown",
   "metadata": {},
   "source": [
    "Run the below cell to load the data on which you will be performing ASM.\n",
    "The data has the records of items purcahed where each element of 'Data' refers to a single transaction"
   ]
  },
  {
   "cell_type": "code",
   "execution_count": 2,
   "metadata": {
    "collapsed": true
   },
   "outputs": [],
   "source": [
    "Data = [['Power Bank', 'Screen Guard' , 'Travel Charger'],\n",
    " ['Screen Guard', 'Bluetooth Headset', 'Mobile Cover'],\n",
    " ['Screen Guard','Arm Band','Mobile Cover'],\n",
    " ['Power Bank','Screen Guard','Leather Pouch'],\n",
    " ['Bluetooth Headset', 'Power Bank' , 'Mobile Cover']]"
   ]
  },
  {
   "cell_type": "markdown",
   "metadata": {},
   "source": [
    "Run the below cell to import necessary packages to perform AMS"
   ]
  },
  {
   "cell_type": "code",
   "execution_count": 3,
   "metadata": {
    "collapsed": true
   },
   "outputs": [],
   "source": [
    "import pandas as pd\n",
    "from mlxtend.preprocessing import OnehotTransactions\n",
    "from mlxtend.frequent_patterns import apriori"
   ]
  },
  {
   "cell_type": "markdown",
   "metadata": {},
   "source": [
    "- initalize OnehotTransactions as oht\n",
    "- fit and transform the transaction data('Data') to perform one hot encoding\n",
    "- create a dataframe of one hot encoded data\n",
    "- Find all frequent item sets with minimum support 0.1 using apriori function  \n",
    "**Follow the code snippet in the course on implementing the above steps**"
   ]
  },
  {
   "cell_type": "code",
   "execution_count": 4,
   "metadata": {},
   "outputs": [
    {
     "name": "stderr",
     "output_type": "stream",
     "text": [
      "/home/dess/anaconda3/lib/python3.6/site-packages/mlxtend/preprocessing/onehot.py:66: DeprecationWarning: OnehotTransactions has been deprecated and will be removed in future. Please use TransactionEncoder instead.\n",
      "  warnings.warn(msg, DeprecationWarning)\n"
     ]
    }
   ],
   "source": [
    "###Start code here\n",
    "oht = OnehotTransactions()\n",
    "oht_ary = oht.fit(Data).transform(Data)\n",
    "dataFrame = pd.DataFrame(oht_ary, columns=oht.columns_)\n",
    "frequent_itemsets = apriori(dataFrame, min_support=0.1, use_colnames=True)\n",
    "###End code(approx 4 lines)"
   ]
  },
  {
   "cell_type": "markdown",
   "metadata": {},
   "source": [
    "- generate association rule for all the itemsets(frequent_itemsets) with minimum confidence 0.7"
   ]
  },
  {
   "cell_type": "code",
   "execution_count": null,
   "metadata": {},
   "outputs": [],
   "source": [
    "from mlxtend.frequent_patterns import association_rules\n",
    "###Start code here\n",
    "association_rule = association_rules(frequent_itemsets, metric=\"confidence\", min_threshold=0.7)\n",
    "print(association_rule)   \n",
    "###End code(approx 2 lines)"
   ]
  },
  {
   "cell_type": "markdown",
   "metadata": {},
   "source": [
    "- What is the consequent support value for Leather Pouch -> Screen Guard ?\n",
    "- What is the lift value for (Arm Band, Mobile Cover)->(Screen Guard) ?\n",
    "- In how many scenarios do you see 2 items (dualtons) in the antecedent set ?\n",
    "- assign the above abservations to respective variable in the cell below"
   ]
  },
  {
   "cell_type": "code",
   "execution_count": 6,
   "metadata": {
    "collapsed": true
   },
   "outputs": [],
   "source": [
    "###Start code here\n",
    "support = 0.8\n",
    "lift = 1.250000\n",
    "dualtons = 9 \n",
    "###End code(approx 3 lines)\n",
    "with open(\"output.txt\", \"w\") as text_file:\n",
    "    text_file.write(\"support= %f\\n\" % support)\n",
    "    text_file.write(\"lift= %f\\n\" % lift)\n",
    "    text_file.write(\"dualtons= %f\\n\" % dualtons)"
   ]
  },
  {
   "cell_type": "code",
   "execution_count": null,
   "metadata": {
    "collapsed": true
   },
   "outputs": [],
   "source": []
  }
 ],
 "metadata": {
  "kernelspec": {
   "display_name": "Python 3",
   "language": "python",
   "name": "python3"
  },
  "language_info": {
   "codemirror_mode": {
    "name": "ipython",
    "version": 3
   },
   "file_extension": ".py",
   "mimetype": "text/x-python",
   "name": "python",
   "nbconvert_exporter": "python",
   "pygments_lexer": "ipython3",
   "version": "3.5.2"
  }
 },
 "nbformat": 4,
 "nbformat_minor": 2
}
