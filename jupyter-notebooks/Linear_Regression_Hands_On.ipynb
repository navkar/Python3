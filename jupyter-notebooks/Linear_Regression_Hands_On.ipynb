{
 "cells": [
  {
   "cell_type": "markdown",
   "metadata": {},
   "source": [
    "Welcome to the second hands-on exercise for Tensorflow. In this exercise , you will be building a linear regression model using tensorflow. \n",
    "You will be given a vector of input and output data, you need to find the linear relationship between these two data which is in the form  $$y = w*x + b$$"
   ]
  },
  {
   "cell_type": "markdown",
   "metadata": {},
   "source": [
    "Execute the code in each cell using the **Shift + Enter** command"
   ]
  },
  {
   "cell_type": "markdown",
   "metadata": {
    "colab_type": "text",
    "id": "mmcLY5yc-vC2"
   },
   "source": [
    "Importing the necessary libraries. "
   ]
  },
  {
   "cell_type": "code",
   "execution_count": 10,
   "metadata": {
    "colab": {
     "autoexec": {
      "startup": false,
      "wait_interval": 0
     }
    },
    "colab_type": "code",
    "id": "nfiVn402sywE"
   },
   "outputs": [],
   "source": [
    "import numpy as np\n",
    "import tensorflow as tf\n",
    "import numpy.random as rand\n"
   ]
  },
  {
   "cell_type": "markdown",
   "metadata": {
    "colab_type": "text",
    "id": "30-vb95h_SbX"
   },
   "source": [
    "Using numpy initialise training input data \n",
    "**trainX** with values [4.4,7.2,3.712,6.42,4.168,8.79,7.88,7.59,2.167,7.042,10.71,5.33,9.97,5.64,9.27,3.1,3.9]\n",
    "\n",
    "**trainY** with values [2.28644, 3.25412, 2.0486672, 2.984552, 2.2062608, 3.803624 ,3.489128, 3.388904 ,1.5147152, 3.1995152, 4.467176, 2.607848 ,4.211432, 2.714984, 3.969512, 1.83716, 2.11364]"
   ]
  },
  {
   "cell_type": "code",
   "execution_count": 11,
   "metadata": {
    "colab": {
     "autoexec": {
      "startup": false,
      "wait_interval": 0
     }
    },
    "colab_type": "code",
    "id": "fz2Oapqsr7EU"
   },
   "outputs": [],
   "source": [
    "## Start Code \n",
    "trainX = np.asarray([4.4,7.2,3.712,6.42,4.168,8.79,7.88,7.59,2.167,7.042,10.71,5.33,9.97,5.64,9.27,3.1,3.9], dtype='float64')\n",
    "                         \n",
    "trainY = np.asarray([2.28644, 3.25412, 2.0486672, 2.984552, 2.2062608, 3.803624 ,3.489128, 3.388904 ,1.5147152, 3.1995152, 4.467176, 2.607848 ,4.211432, 2.714984, 3.969512, 1.83716, 2.11364], dtype='float64')\n",
    "## End Code \n",
    "\n",
    "num_samples = trainX.shape[0]"
   ]
  },
  {
   "cell_type": "markdown",
   "metadata": {
    "colab_type": "text",
    "id": "PJVzaFVBB_VZ"
   },
   "source": [
    "Define placeholders for input and output data as **X** and **Y** . Let them be of data type **float32** "
   ]
  },
  {
   "cell_type": "code",
   "execution_count": 12,
   "metadata": {
    "colab": {
     "autoexec": {
      "startup": false,
      "wait_interval": 0
     }
    },
    "colab_type": "code",
    "id": "OLmU3FE_strS"
   },
   "outputs": [],
   "source": [
    "X = tf.placeholder(dtype='float32')\n",
    "Y = tf.placeholder(dtype='float32')"
   ]
  },
  {
   "cell_type": "markdown",
   "metadata": {
    "colab_type": "text",
    "id": "RtU_5I6kDcMP"
   },
   "source": [
    "Since this is a **linear regression** problem the output will be in the form of **w * trainX + b** \n",
    "\n",
    "Initialse **w** and **b** with random values using **rand.randn()** function. Make sure you declare them as **tensorflow variables**"
   ]
  },
  {
   "cell_type": "code",
   "execution_count": 13,
   "metadata": {
    "colab": {
     "autoexec": {
      "startup": false,
      "wait_interval": 0
     }
    },
    "colab_type": "code",
    "id": "Sa4pl52OtQXx"
   },
   "outputs": [],
   "source": [
    "## Start Code \n",
    "w = tf.Variable(rand.randn(), name=\"weight\")\n",
    "b = tf.Variable(rand.randn(), name=\"bias\")\n",
    "## End Code "
   ]
  },
  {
   "cell_type": "markdown",
   "metadata": {
    "colab_type": "text",
    "id": "rR7mpZibFG60"
   },
   "source": [
    "implement **X * W + b** using appropriate tensorflow functions to predict the output **Y**.\n",
    "\n",
    "Train the model using gradient descent to minimize the cost. \n",
    "Initialize the number of iterations and learning rate \n",
    "\n",
    "**TIP:** start with small learning rate and large iteration."
   ]
  },
  {
   "cell_type": "code",
   "execution_count": 14,
   "metadata": {
    "colab": {
     "autoexec": {
      "startup": false,
      "wait_interval": 0
     }
    },
    "colab_type": "code",
    "id": "OIURcBF12BFP"
   },
   "outputs": [],
   "source": [
    "## Start Code \n",
    "\n",
    "num_iter = 10000 \n",
    "learning_rate = 0.01\n",
    "\n",
    "\n",
    "pred = tf.add(tf.multiply(X, w), b)\n",
    "cost = tf.reduce_sum(tf.pow(pred-Y,2))/(2*num_samples)\n",
    "\n",
    "optimizer = tf.train.GradientDescentOptimizer(learning_rate)\n",
    "train = optimizer.minimize(cost)\n",
    "\n",
    "\n",
    "## End Code "
   ]
  },
  {
   "cell_type": "markdown",
   "metadata": {
    "colab_type": "text",
    "id": "h1xSp5PjPVOV"
   },
   "source": [
    "\n",
    "Execute the below piece of code. "
   ]
  },
  {
   "cell_type": "code",
   "execution_count": 15,
   "metadata": {},
   "outputs": [],
   "source": [
    "text_file = open(\"Output.txt\", \"w\")\n",
    "model = tf.global_variables_initializer()\n",
    "with tf.Session() as session:\n",
    "    session.run(model)\n",
    "    for i in range(num_iter):\n",
    "        session.run(train, feed_dict={X: trainX , Y: trainY})\n",
    "    w = session.run(w)\n",
    "    b = session.run(b)\n",
    "    with open(\"Output.txt\", \"w\") as text_file:\n",
    "        text_file.write(\"w= %f\\n\" % w)\n",
    "        text_file.write(\"b= %f\" % b)"
   ]
  },
  {
   "cell_type": "code",
   "execution_count": null,
   "metadata": {},
   "outputs": [],
   "source": []
  }
 ],
 "metadata": {
  "colab": {
   "collapsed_sections": [],
   "default_view": {},
   "name": "Linear_regression.ipynb",
   "provenance": [],
   "version": "0.3.2",
   "views": {}
  },
  "kernelspec": {
   "display_name": "Python 2",
   "language": "python",
   "name": "python2"
  },
  "language_info": {
   "codemirror_mode": {
    "name": "ipython",
    "version": 2
   },
   "file_extension": ".py",
   "mimetype": "text/x-python",
   "name": "python",
   "nbconvert_exporter": "python",
   "pygments_lexer": "ipython2",
   "version": "2.7.12"
  }
 },
 "nbformat": 4,
 "nbformat_minor": 1
}
